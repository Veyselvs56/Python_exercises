{
 "cells": [
  {
   "cell_type": "code",
   "execution_count": 1,
   "id": "76ca61d9-591f-4f93-9d9b-ea75f627da97",
   "metadata": {},
   "outputs": [],
   "source": [
    "class Hayvan():\n",
    "    def __init__(self):\n",
    "        print(\"hayvan sınıfı init çağırıldı\")\n",
    "    def method1(self):\n",
    "        print(\"hayvan sınıfı method1 çağırıldı\")\n",
    "    def method2(self):\n",
    "        print(\"hayvan sınıfı method2 çağırıldı\")"
   ]
  },
  {
   "cell_type": "code",
   "execution_count": 2,
   "id": "26690e83-cc77-42dc-bc09-7abb5d50c4b6",
   "metadata": {},
   "outputs": [
    {
     "name": "stdout",
     "output_type": "stream",
     "text": [
      "hayvan sınıfı init çağırıldı\n"
     ]
    }
   ],
   "source": [
    "benimHayvanım=Hayvan()"
   ]
  },
  {
   "cell_type": "code",
   "execution_count": 4,
   "id": "67e315fd-5682-4a44-bdf5-e040061c6b09",
   "metadata": {},
   "outputs": [
    {
     "name": "stdout",
     "output_type": "stream",
     "text": [
      "hayvan sınıfı method1 çağırıldı\n"
     ]
    }
   ],
   "source": [
    "benimHayvanım.method1()"
   ]
  },
  {
   "cell_type": "code",
   "execution_count": 5,
   "id": "a2ff4398-132d-47b0-99cc-1fd72c200b15",
   "metadata": {},
   "outputs": [
    {
     "name": "stdout",
     "output_type": "stream",
     "text": [
      "hayvan sınıfı method2 çağırıldı\n"
     ]
    }
   ],
   "source": [
    "benimHayvanım.method2()"
   ]
  },
  {
   "cell_type": "code",
   "execution_count": 12,
   "id": "0131a466-7869-4bb3-8ee6-b5bd2e935126",
   "metadata": {},
   "outputs": [],
   "source": [
    "class Kedi(Hayvan):   #kedi hayvan sınıfının tüm özelliklerini alır ayrıca kendi özellikleri ed var\n",
    "    def __init__(self):\n",
    "        Hayvan.__init__(self)\n",
    "        print(\"kedi sınıfı initi çağırdı\")\n",
    "\n",
    "    def miyavla(self):\n",
    "        print(\"miyav\")\n",
    "\n",
    "    def method1(self):  #overwrite yaptık üstüne yazdık yani\n",
    "        print(\"kedi sınıfındaki method çalıştırıdı\")"
   ]
  },
  {
   "cell_type": "code",
   "execution_count": 14,
   "id": "cfcd9d90-1c93-475f-87b5-ba2b4d3d7705",
   "metadata": {},
   "outputs": [
    {
     "name": "stdout",
     "output_type": "stream",
     "text": [
      "hayvan sınıfı init çağırıldı\n",
      "kedi sınıfı initi çağırdı\n"
     ]
    }
   ],
   "source": [
    "benimKedi=Kedi()"
   ]
  },
  {
   "cell_type": "code",
   "execution_count": 15,
   "id": "bfbaf6c6-0982-4470-ad3c-6babe6c46956",
   "metadata": {},
   "outputs": [
    {
     "name": "stdout",
     "output_type": "stream",
     "text": [
      "miyav\n"
     ]
    }
   ],
   "source": [
    "benimKedi.miyavla()"
   ]
  },
  {
   "cell_type": "code",
   "execution_count": 16,
   "id": "77b9c7a5-f8e2-4fda-81ce-59b3e0b54f63",
   "metadata": {},
   "outputs": [
    {
     "name": "stdout",
     "output_type": "stream",
     "text": [
      "kedi sınıfındaki method çalıştırıdı\n"
     ]
    }
   ],
   "source": [
    "benimKedi.method1()  #yani metodda değişiklik yapacaksak ve bu method kedide değişsin istemiyorsak kediye yazabiliriz o zaman da kedideki method çalışır "
   ]
  },
  {
   "cell_type": "code",
   "execution_count": null,
   "id": "57b80764-c2e7-4fdb-abc4-433a0aae30a3",
   "metadata": {},
   "outputs": [],
   "source": []
  }
 ],
 "metadata": {
  "kernelspec": {
   "display_name": "Python 3 (ipykernel)",
   "language": "python",
   "name": "python3"
  },
  "language_info": {
   "codemirror_mode": {
    "name": "ipython",
    "version": 3
   },
   "file_extension": ".py",
   "mimetype": "text/x-python",
   "name": "python",
   "nbconvert_exporter": "python",
   "pygments_lexer": "ipython3",
   "version": "3.13.5"
  }
 },
 "nbformat": 4,
 "nbformat_minor": 5
}
