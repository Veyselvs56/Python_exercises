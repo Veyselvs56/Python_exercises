{
 "cells": [
  {
   "cell_type": "markdown",
   "id": "1ebbd91e-ba88-4235-87b6-27e1facbb5bf",
   "metadata": {},
   "source": [
    "def Fonksiyon(isim=\"veysel\"):     # default parametre olarak veysel yazdık\n",
    "    print(\"merhaba\")\n",
    "    print(isim)"
   ]
  },
  {
   "cell_type": "code",
   "execution_count": 5,
   "id": "3701477e-649d-4599-9bb8-376d9c7737a2",
   "metadata": {},
   "outputs": [
    {
     "name": "stdout",
     "output_type": "stream",
     "text": [
      "merhaba\n",
      "zişan\n"
     ]
    }
   ],
   "source": [
    "Fonksiyon(\"zişan\")"
   ]
  },
  {
   "cell_type": "code",
   "execution_count": 6,
   "id": "291c2d2a-01e4-4042-bd36-798dc3879641",
   "metadata": {},
   "outputs": [],
   "source": [
    "def toplama(number1,number2):\n",
    "    sonuc=number1+number2\n",
    "    print(sonuc)"
   ]
  },
  {
   "cell_type": "code",
   "execution_count": 7,
   "id": "bb523a54-c95d-4c24-b5a2-36d7d5396818",
   "metadata": {},
   "outputs": [
    {
     "name": "stdout",
     "output_type": "stream",
     "text": [
      "30\n"
     ]
    }
   ],
   "source": [
    "toplama(10,20)"
   ]
  },
  {
   "cell_type": "markdown",
   "id": "88d60b67-3eca-43a7-ba16-b3775dcea08c",
   "metadata": {},
   "source": [
    "## args & kwargs"
   ]
  },
  {
   "cell_type": "code",
   "execution_count": 1,
   "id": "028d25cc-d7e8-4495-b5ab-5ace42c8dc13",
   "metadata": {},
   "outputs": [],
   "source": [
    "def yenitoplama(*arg):    #birden fazla parametre almamızı sağlıyor\n",
    "    return sum(arg)"
   ]
  },
  {
   "cell_type": "code",
   "execution_count": 2,
   "id": "f33b75c4-2fa1-4e8c-9ee7-9a8b7a00bb4c",
   "metadata": {},
   "outputs": [
    {
     "data": {
      "text/plain": [
       "100"
      ]
     },
     "execution_count": 2,
     "metadata": {},
     "output_type": "execute_result"
    }
   ],
   "source": [
    "yenitoplama(10,20,30,40)"
   ]
  },
  {
   "cell_type": "code",
   "execution_count": 4,
   "id": "eb5ebd22-702c-4a79-bdcb-0b556e7e52d0",
   "metadata": {},
   "outputs": [],
   "source": [
    "#istenilen sayıda anahyarlanmış kelime yani değer verilmiş kelime yazmamızı sağlar\n",
    "def ornekfonksiyon(**kwargs):   # kwargs yazmaya gerek yok ** yazınca aynı işi yapıyor ancak yazmak daha iyenitoplama\n",
    "    return(kwargs)"
   ]
  },
  {
   "cell_type": "code",
   "execution_count": 5,
   "id": "5bfc17d8-08fb-47dc-a46d-c1a785165e2e",
   "metadata": {},
   "outputs": [
    {
     "data": {
      "text/plain": [
       "dict"
      ]
     },
     "execution_count": 5,
     "metadata": {},
     "output_type": "execute_result"
    }
   ],
   "source": [
    "type(ornekfonksiyon(muz=100,elma=200,ananas=300))"
   ]
  },
  {
   "cell_type": "code",
   "execution_count": 7,
   "id": "0e07476b-a859-45de-bd94-ecb16af9c75b",
   "metadata": {},
   "outputs": [],
   "source": [
    "def keywordkontrol(**kwargs):\n",
    "    if \"veysel\" in kwargs:\n",
    "        print(\"veysel var\")\n",
    "    else:\n",
    "        print(\"veysel yok\") "
   ]
  },
  {
   "cell_type": "code",
   "execution_count": 8,
   "id": "c50c24e0-cc36-4b60-9208-9e80b1dd2a0f",
   "metadata": {},
   "outputs": [
    {
     "name": "stdout",
     "output_type": "stream",
     "text": [
      "veysel var\n"
     ]
    }
   ],
   "source": [
    "keywordkontrol(veysel=10,zisan=20)"
   ]
  },
  {
   "cell_type": "code",
   "execution_count": null,
   "id": "f02498b6-75c3-459c-b0fc-2030e446818e",
   "metadata": {},
   "outputs": [],
   "source": []
  }
 ],
 "metadata": {
  "kernelspec": {
   "display_name": "Python 3 (ipykernel)",
   "language": "python",
   "name": "python3"
  },
  "language_info": {
   "codemirror_mode": {
    "name": "ipython",
    "version": 3
   },
   "file_extension": ".py",
   "mimetype": "text/x-python",
   "name": "python",
   "nbconvert_exporter": "python",
   "pygments_lexer": "ipython3",
   "version": "3.13.5"
  }
 },
 "nbformat": 4,
 "nbformat_minor": 5
}
