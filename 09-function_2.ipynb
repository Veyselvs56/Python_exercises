{
 "cells": [
  {
   "cell_type": "code",
   "execution_count": 1,
   "id": "c23caa31-8ce6-4a77-8e02-5564423edd5b",
   "metadata": {},
   "outputs": [],
   "source": [
    "def bolmeİslemi(number):\n",
    "    return number/2"
   ]
  },
  {
   "cell_type": "code",
   "execution_count": 2,
   "id": "703745c3-7174-485e-a718-8e1093df11dc",
   "metadata": {},
   "outputs": [],
   "source": [
    "#listedeki elemanları 2 ye bölüp başka bir listeye ekleyeceğiz\n",
    "yeniListe1=[2,8,10,16,20,15]\n",
    "yeniListe2=[]"
   ]
  },
  {
   "cell_type": "code",
   "execution_count": 4,
   "id": "d3e2843f-2161-4d2c-bdc0-e0124d2c5271",
   "metadata": {},
   "outputs": [],
   "source": [
    "for eleman in yeniListe1:\n",
    "    yeniListe2.append(bolmeİslemi(eleman))"
   ]
  },
  {
   "cell_type": "code",
   "execution_count": 5,
   "id": "ebf34313-bc17-4fa9-93df-633402cb2087",
   "metadata": {},
   "outputs": [
    {
     "data": {
      "text/plain": [
       "[1.0, 4.0, 5.0, 8.0, 10.0, 7.5]"
      ]
     },
     "execution_count": 5,
     "metadata": {},
     "output_type": "execute_result"
    }
   ],
   "source": [
    "yeniListe2"
   ]
  },
  {
   "cell_type": "markdown",
   "id": "a1e84d3f-53e3-420b-b980-7a133a5ce5ef",
   "metadata": {},
   "source": [
    "## map"
   ]
  },
  {
   "cell_type": "code",
   "execution_count": 7,
   "id": "9f16ed2d-3dac-42c2-9377-54fbe4aa3e8d",
   "metadata": {},
   "outputs": [
    {
     "data": {
      "text/plain": [
       "[1.0, 4.0, 5.0, 8.0, 10.0, 7.5]"
      ]
     },
     "execution_count": 7,
     "metadata": {},
     "output_type": "execute_result"
    }
   ],
   "source": [
    "list(map(bolmeİslemi,yeniListe1))  #yukardaki işlemi bu şekilde de gerçekleştirebiliriz"
   ]
  },
  {
   "cell_type": "code",
   "execution_count": 9,
   "id": "a189bc99-a800-40fe-b499-118ec9eea141",
   "metadata": {},
   "outputs": [],
   "source": [
    "def kontrolFonksiyonu(string):   #stringin içinde a var mı kontrol ediyor \n",
    "    return \"a\" in string"
   ]
  },
  {
   "cell_type": "code",
   "execution_count": 10,
   "id": "97babcab-8f5e-4d03-af72-2031eda2da63",
   "metadata": {},
   "outputs": [
    {
     "data": {
      "text/plain": [
       "False"
      ]
     },
     "execution_count": 10,
     "metadata": {},
     "output_type": "execute_result"
    }
   ],
   "source": [
    "\"a\" in \"veysel\""
   ]
  },
  {
   "cell_type": "code",
   "execution_count": 11,
   "id": "627e33dd-f17d-40f1-829c-bec09e3f9fb0",
   "metadata": {},
   "outputs": [],
   "source": [
    "stringListesi=[\"veysel\",\"zisan\",\"mehmet\"]"
   ]
  },
  {
   "cell_type": "code",
   "execution_count": 15,
   "id": "15a4ce33-8225-4cff-b076-0a5348561a77",
   "metadata": {},
   "outputs": [],
   "source": [
    "sonuclistesi=list(map(kontrolFonksiyonu,stringListesi)) #bunu başka listeye de aktarabiliriz direk yazadabiliriz"
   ]
  },
  {
   "cell_type": "code",
   "execution_count": 20,
   "id": "067663dd-10dd-44a2-8a1a-c0ba78bda757",
   "metadata": {},
   "outputs": [
    {
     "data": {
      "text/plain": [
       "[False, True, False]"
      ]
     },
     "execution_count": 20,
     "metadata": {},
     "output_type": "execute_result"
    }
   ],
   "source": [
    "sonuclistesi"
   ]
  },
  {
   "cell_type": "code",
   "execution_count": 19,
   "id": "ff441467-f689-4fd4-b507-be72d6612c96",
   "metadata": {},
   "outputs": [
    {
     "data": {
      "text/plain": [
       "2"
      ]
     },
     "execution_count": 19,
     "metadata": {},
     "output_type": "execute_result"
    }
   ],
   "source": [
    "sonuclistesi.count(False)   #listedeki yanlışları sayıyor "
   ]
  },
  {
   "cell_type": "markdown",
   "id": "928c45a4-afc9-4c35-816f-339342896809",
   "metadata": {},
   "source": [
    "## filter"
   ]
  },
  {
   "cell_type": "code",
   "execution_count": 21,
   "id": "a3078fb1-c5bb-452b-92b5-8d30f6f16de9",
   "metadata": {},
   "outputs": [
    {
     "data": {
      "text/plain": [
       "['zisan']"
      ]
     },
     "execution_count": 21,
     "metadata": {},
     "output_type": "execute_result"
    }
   ],
   "source": [
    "list(filter(kontrolFonksiyonu,stringListesi)) #listedeki true olanları gösterir"
   ]
  },
  {
   "cell_type": "code",
   "execution_count": 23,
   "id": "7aeff85f-66ae-4276-b958-0625461c313b",
   "metadata": {},
   "outputs": [],
   "source": [
    "#lambda çok kullanılmayacak fonksiyonlar yerine yazılabilir tek seferde yazılacaksa \n",
    "carpma=lambda numara:numara*3"
   ]
  },
  {
   "cell_type": "code",
   "execution_count": 24,
   "id": "fd473a87-fefe-4e41-b737-44b48337b197",
   "metadata": {},
   "outputs": [
    {
     "data": {
      "text/plain": [
       "30"
      ]
     },
     "execution_count": 24,
     "metadata": {},
     "output_type": "execute_result"
    }
   ],
   "source": [
    "carpma(10)"
   ]
  },
  {
   "cell_type": "markdown",
   "id": "71380e04-aac7-44b0-a3c2-97b55d0e497b",
   "metadata": {},
   "source": [
    "## referans ile işlem yapmak "
   ]
  },
  {
   "cell_type": "code",
   "execution_count": 25,
   "id": "90c32da8-d857-4173-9837-02baa6ec8b72",
   "metadata": {},
   "outputs": [],
   "source": [
    "y=10;\n",
    "def ornekFonk():\n",
    "    global y   #yani burda yaptığımız değişiklik globaldeki y ye de etki etmiş oldu \n",
    "    y=5\n",
    "    print(y)"
   ]
  },
  {
   "cell_type": "code",
   "execution_count": 26,
   "id": "d0bbc6cf-8725-48c1-851c-cb957a9a5e7b",
   "metadata": {},
   "outputs": [
    {
     "name": "stdout",
     "output_type": "stream",
     "text": [
      "5\n"
     ]
    }
   ],
   "source": [
    "ornekFonk()"
   ]
  },
  {
   "cell_type": "code",
   "execution_count": 27,
   "id": "177c2829-e7c0-404d-ae5c-6f8e87178269",
   "metadata": {},
   "outputs": [
    {
     "data": {
      "text/plain": [
       "5"
      ]
     },
     "execution_count": 27,
     "metadata": {},
     "output_type": "execute_result"
    }
   ],
   "source": [
    "y"
   ]
  },
  {
   "cell_type": "code",
   "execution_count": null,
   "id": "115d45f1-dff8-4814-be04-498c5102d962",
   "metadata": {},
   "outputs": [],
   "source": []
  }
 ],
 "metadata": {
  "kernelspec": {
   "display_name": "Python 3 (ipykernel)",
   "language": "python",
   "name": "python3"
  },
  "language_info": {
   "codemirror_mode": {
    "name": "ipython",
    "version": 3
   },
   "file_extension": ".py",
   "mimetype": "text/x-python",
   "name": "python",
   "nbconvert_exporter": "python",
   "pygments_lexer": "ipython3",
   "version": "3.13.5"
  }
 },
 "nbformat": 4,
 "nbformat_minor": 5
}
