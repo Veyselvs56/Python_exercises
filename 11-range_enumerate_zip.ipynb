{
 "cells": [
  {
   "cell_type": "markdown",
   "id": "e99f76a0-909a-4a27-b202-f8b3cb9f6447",
   "metadata": {},
   "source": [
    "## range enumerate zip "
   ]
  },
  {
   "cell_type": "code",
   "execution_count": 3,
   "id": "e5616bf3-8dfd-4381-9cf3-39093cad5e68",
   "metadata": {},
   "outputs": [
    {
     "data": {
      "text/plain": [
       "[0, 1, 2, 3, 4, 5, 6, 7, 8, 9, 10, 11, 12, 13, 14, 15, 16, 17, 18, 19]"
      ]
     },
     "execution_count": 3,
     "metadata": {},
     "output_type": "execute_result"
    }
   ],
   "source": [
    "list(range(20))"
   ]
  },
  {
   "cell_type": "code",
   "execution_count": 8,
   "id": "92dcbc46-0191-4e2c-8391-6498acec3af1",
   "metadata": {},
   "outputs": [
    {
     "name": "stdout",
     "output_type": "stream",
     "text": [
      "0\n",
      "5\n",
      "10\n",
      "15\n",
      "20\n",
      "25\n",
      "30\n",
      "35\n",
      "40\n",
      "45\n",
      "50\n",
      "55\n",
      "60\n",
      "65\n",
      "70\n"
     ]
    }
   ],
   "source": [
    "for numara in list(range(15)):\n",
    "    print(numara*5)"
   ]
  },
  {
   "cell_type": "code",
   "execution_count": 9,
   "id": "24203aae-54f4-403d-9a4d-9fe797f356a8",
   "metadata": {},
   "outputs": [
    {
     "data": {
      "text/plain": [
       "[4, 8, 12]"
      ]
     },
     "execution_count": 9,
     "metadata": {},
     "output_type": "execute_result"
    }
   ],
   "source": [
    "list(range(4,16,4))   #4 ten başla 16 ya kadar 4 er 4 er devam et"
   ]
  },
  {
   "cell_type": "code",
   "execution_count": 13,
   "id": "9d0ba1ce-0f53-4cc3-868f-51d9ea822213",
   "metadata": {},
   "outputs": [
    {
     "name": "stdout",
     "output_type": "stream",
     "text": [
      "indis=0 numara=10\n",
      "indis=1 numara=12\n",
      "indis=2 numara=14\n",
      "indis=3 numara=16\n",
      "indis=4 numara=18\n"
     ]
    }
   ],
   "source": [
    "indis=0\n",
    "for numara in list(range(10,20,2)):\n",
    "    print(f\"indis={indis} numara={numara}\")\n",
    "    indis=indis+1"
   ]
  },
  {
   "cell_type": "code",
   "execution_count": 14,
   "id": "5aa4b3a0-f398-4770-9103-9893300bc5a4",
   "metadata": {},
   "outputs": [
    {
     "name": "stdout",
     "output_type": "stream",
     "text": [
      "(0, 5)\n",
      "(1, 6)\n",
      "(2, 7)\n",
      "(3, 8)\n",
      "(4, 9)\n",
      "(5, 10)\n",
      "(6, 11)\n",
      "(7, 12)\n",
      "(8, 13)\n",
      "(9, 14)\n"
     ]
    }
   ],
   "source": [
    "for eleman in enumerate(list(range(5,15))):\n",
    "    print(eleman)"
   ]
  },
  {
   "cell_type": "code",
   "execution_count": 16,
   "id": "76e660cb-b138-4f42-ab35-dd3a3fbb0fb3",
   "metadata": {},
   "outputs": [
    {
     "name": "stdout",
     "output_type": "stream",
     "text": [
      "<class 'tuple'>\n",
      "<class 'tuple'>\n",
      "<class 'tuple'>\n",
      "<class 'tuple'>\n",
      "<class 'tuple'>\n",
      "<class 'tuple'>\n",
      "<class 'tuple'>\n",
      "<class 'tuple'>\n",
      "<class 'tuple'>\n",
      "<class 'tuple'>\n"
     ]
    }
   ],
   "source": [
    "for eleman in enumerate(list(range(5,15))):\n",
    "    print (type(eleman))  ## burdaki eleman tuple yani değiştirilemez liste"
   ]
  },
  {
   "cell_type": "code",
   "execution_count": 18,
   "id": "9d73a82a-a3b8-4c3c-a170-6b9c5d572851",
   "metadata": {},
   "outputs": [
    {
     "name": "stdout",
     "output_type": "stream",
     "text": [
      "0\n",
      "1\n",
      "2\n",
      "3\n",
      "4\n",
      "5\n",
      "6\n",
      "7\n",
      "8\n",
      "9\n"
     ]
    }
   ],
   "source": [
    "for (indis,numara) in enumerate(list(range(5,15))):\n",
    "    print(indis)   #istersek numara istersek indis yazdırabiliriz "
   ]
  },
  {
   "cell_type": "code",
   "execution_count": 20,
   "id": "a234f67b-09fb-4abc-ad2d-5bb88ebabdea",
   "metadata": {},
   "outputs": [],
   "source": [
    "from random import randint #random kütüphanesinden integer random sayılar üretir"
   ]
  },
  {
   "cell_type": "code",
   "execution_count": 21,
   "id": "51c018ba-12d5-4728-8b42-e84be714bf03",
   "metadata": {},
   "outputs": [
    {
     "data": {
      "text/plain": [
       "23"
      ]
     },
     "execution_count": 21,
     "metadata": {},
     "output_type": "execute_result"
    }
   ],
   "source": [
    "randint(0,100)"
   ]
  },
  {
   "cell_type": "code",
   "execution_count": 24,
   "id": "c3745ebf-fb0b-43b6-b1d1-15232cb7716a",
   "metadata": {},
   "outputs": [],
   "source": [
    "yeniliste=list(range(0,10))"
   ]
  },
  {
   "cell_type": "code",
   "execution_count": 25,
   "id": "7c7001ec-2c18-43a3-b2fd-23e573a8cfc8",
   "metadata": {},
   "outputs": [
    {
     "data": {
      "text/plain": [
       "[0, 1, 2, 3, 4, 5, 6, 7, 8, 9]"
      ]
     },
     "execution_count": 25,
     "metadata": {},
     "output_type": "execute_result"
    }
   ],
   "source": [
    "yeniliste"
   ]
  },
  {
   "cell_type": "code",
   "execution_count": 26,
   "id": "9350e4b3-7599-44b5-b67f-ba15497ca574",
   "metadata": {},
   "outputs": [],
   "source": [
    "from random import shuffle     #(şafıl) listeyi karıştırır"
   ]
  },
  {
   "cell_type": "code",
   "execution_count": 27,
   "id": "b95e2f67-2ff4-4534-bbd9-085ccd911a28",
   "metadata": {},
   "outputs": [],
   "source": [
    "shuffle(yeniliste)"
   ]
  },
  {
   "cell_type": "code",
   "execution_count": 28,
   "id": "ece43215-76e3-4631-b255-859def5ea889",
   "metadata": {},
   "outputs": [
    {
     "data": {
      "text/plain": [
       "[7, 4, 2, 9, 0, 3, 6, 8, 5, 1]"
      ]
     },
     "execution_count": 28,
     "metadata": {},
     "output_type": "execute_result"
    }
   ],
   "source": [
    "yeniliste"
   ]
  },
  {
   "cell_type": "markdown",
   "id": "c2374ab0-b84e-4d69-baea-0ab4154015eb",
   "metadata": {},
   "source": [
    "## zip"
   ]
  },
  {
   "cell_type": "code",
   "execution_count": 29,
   "id": "14e30a13-0af3-41bc-b4a5-be2645dbb3ce",
   "metadata": {},
   "outputs": [],
   "source": [
    "yemekListesi=[\"muz\",\"ananas\",\"elma\"]\n",
    "kaloriListesi=[100,200,300]\n",
    "gunListesi=[\"pazartesi\",\"salı\",\"çarşamba\"]"
   ]
  },
  {
   "cell_type": "code",
   "execution_count": 31,
   "id": "6e31436c-8725-49a2-afdf-f1c46c5e4ff2",
   "metadata": {},
   "outputs": [],
   "source": [
    "ziplenmisListe=list(zip(yemekListesi,kaloriListesi,gunListesi))"
   ]
  },
  {
   "cell_type": "code",
   "execution_count": 34,
   "id": "adfd1f65-9cf2-4a19-af20-cea780a7d096",
   "metadata": {},
   "outputs": [
    {
     "name": "stdout",
     "output_type": "stream",
     "text": [
      "<class 'tuple'>\n",
      "<class 'tuple'>\n",
      "<class 'tuple'>\n"
     ]
    }
   ],
   "source": [
    "for eleman in ziplenmisListe:\n",
    "    print (type(eleman))"
   ]
  },
  {
   "cell_type": "code",
   "execution_count": 35,
   "id": "a5c89024-ca8f-4be9-a497-c57655133cf5",
   "metadata": {},
   "outputs": [
    {
     "data": {
      "text/plain": [
       "[('muz', 100, 'pazartesi'), ('ananas', 200, 'salı'), ('elma', 300, 'çarşamba')]"
      ]
     },
     "execution_count": 35,
     "metadata": {},
     "output_type": "execute_result"
    }
   ],
   "source": [
    "ziplenmisListe"
   ]
  },
  {
   "cell_type": "code",
   "execution_count": 37,
   "id": "d8ea8103-37ad-42e4-b065-b11745d9642e",
   "metadata": {},
   "outputs": [],
   "source": [
    "listeOrnegi=[]\n",
    "benimString=\"veysel tardu\"\n",
    "\n",
    "for harf in benimString:\n",
    "    listeOrnegi.append(harf)"
   ]
  },
  {
   "cell_type": "code",
   "execution_count": 39,
   "id": "711e4cfe-ba7c-40c2-ba55-cab1b959f7b3",
   "metadata": {},
   "outputs": [
    {
     "data": {
      "text/plain": [
       "['v', 'e', 'y', 's', 'e', 'l', ' ', 't', 'a', 'r', 'd', 'u']"
      ]
     },
     "execution_count": 39,
     "metadata": {},
     "output_type": "execute_result"
    }
   ],
   "source": [
    "listeOrnegi"
   ]
  },
  {
   "cell_type": "code",
   "execution_count": 1,
   "id": "f5b106db-b818-40ab-b56c-3f6064ff276e",
   "metadata": {},
   "outputs": [],
   "source": [
    "## veya şu şekilde de yapılabilir \n",
    "yeniString=\"ahmet\""
   ]
  },
  {
   "cell_type": "code",
   "execution_count": 2,
   "id": "72fbe654-ff96-40f0-88b1-e9062dc43a68",
   "metadata": {},
   "outputs": [],
   "source": [
    "yeniListe=[eleman for eleman in yeniString]"
   ]
  },
  {
   "cell_type": "code",
   "execution_count": 3,
   "id": "84b8950c-0b0a-473d-aece-3307df6c8b81",
   "metadata": {},
   "outputs": [
    {
     "data": {
      "text/plain": [
       "['a', 'h', 'm', 'e', 't']"
      ]
     },
     "execution_count": 3,
     "metadata": {},
     "output_type": "execute_result"
    }
   ],
   "source": [
    "yeniListe"
   ]
  },
  {
   "cell_type": "code",
   "execution_count": 4,
   "id": "fcba1362-7837-48e2-97ea-f831fb735655",
   "metadata": {},
   "outputs": [],
   "source": [
    "ikinciListe=[numara*5 for numara in list(range(0,10))]"
   ]
  },
  {
   "cell_type": "code",
   "execution_count": 5,
   "id": "ac872978-ab3c-4232-aed6-03665c565939",
   "metadata": {},
   "outputs": [
    {
     "data": {
      "text/plain": [
       "[0, 5, 10, 15, 20, 25, 30, 35, 40, 45]"
      ]
     },
     "execution_count": 5,
     "metadata": {},
     "output_type": "execute_result"
    }
   ],
   "source": [
    "ikinciListe"
   ]
  },
  {
   "cell_type": "code",
   "execution_count": null,
   "id": "3610f56f-690a-4540-9ec3-b27d391277f9",
   "metadata": {},
   "outputs": [],
   "source": []
  }
 ],
 "metadata": {
  "kernelspec": {
   "display_name": "Python 3 (ipykernel)",
   "language": "python",
   "name": "python3"
  },
  "language_info": {
   "codemirror_mode": {
    "name": "ipython",
    "version": 3
   },
   "file_extension": ".py",
   "mimetype": "text/x-python",
   "name": "python",
   "nbconvert_exporter": "python",
   "pygments_lexer": "ipython3",
   "version": "3.13.5"
  }
 },
 "nbformat": 4,
 "nbformat_minor": 5
}
