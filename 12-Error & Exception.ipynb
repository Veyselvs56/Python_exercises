{
 "cells": [
  {
   "cell_type": "markdown",
   "id": "b14621ef-cede-43ee-873d-42e051dda836",
   "metadata": {},
   "source": [
    "## istisnalar ve hatalar "
   ]
  },
  {
   "cell_type": "code",
   "execution_count": 6,
   "id": "1f423d62-197b-47da-9021-e4c58c26afd2",
   "metadata": {},
   "outputs": [],
   "source": [
    "class Meyve():\n",
    "    def __init__(self,isim,kalori): \n",
    "        self.isim=isim\n",
    "        self.kalori=kalori\n",
    "        \n",
    "    def __str__(self):   #nesneyi string olarak döndürür\n",
    "        return f\"{self.isim},{self.kalori} kaloridir\"\n",
    "        \n",
    "    def __len__(self):   #nesneye ait integer bir değer döndürür \n",
    "        return self.kalori"
   ]
  },
  {
   "cell_type": "code",
   "execution_count": 8,
   "id": "47df99bc-fe54-46a2-9575-7546bb2df76a",
   "metadata": {},
   "outputs": [],
   "source": [
    "muz=Meyve(\"muz\",100)"
   ]
  },
  {
   "cell_type": "code",
   "execution_count": 9,
   "id": "deee90b4-1fa5-48fc-b85e-7b5efb72c81c",
   "metadata": {},
   "outputs": [
    {
     "data": {
      "text/plain": [
       "100"
      ]
     },
     "execution_count": 9,
     "metadata": {},
     "output_type": "execute_result"
    }
   ],
   "source": [
    "muz.kalori"
   ]
  },
  {
   "cell_type": "code",
   "execution_count": 10,
   "id": "8417a928-4f71-4fb6-a5aa-8e9166b435e1",
   "metadata": {},
   "outputs": [
    {
     "name": "stdout",
     "output_type": "stream",
     "text": [
      "muz,100 kaloridir\n"
     ]
    }
   ],
   "source": [
    "print(muz)   #str( muz) da yazabilirdik"
   ]
  },
  {
   "cell_type": "code",
   "execution_count": 11,
   "id": "d0151d11-4485-48e1-9ec8-b4d0f99c9b79",
   "metadata": {},
   "outputs": [],
   "source": [
    "elma=Meyve(\"elma\",200)"
   ]
  },
  {
   "cell_type": "code",
   "execution_count": 12,
   "id": "aaef6181-26aa-4f2f-bf1e-4ed06fdb8468",
   "metadata": {},
   "outputs": [
    {
     "data": {
      "text/plain": [
       "200"
      ]
     },
     "execution_count": 12,
     "metadata": {},
     "output_type": "execute_result"
    }
   ],
   "source": [
    "len(elma)"
   ]
  },
  {
   "cell_type": "code",
   "execution_count": 13,
   "id": "3a4129c2-fd3e-4ea9-ba3b-3c379ec6cf0e",
   "metadata": {},
   "outputs": [
    {
     "data": {
      "text/plain": [
       "'muz,100 kaloridir'"
      ]
     },
     "execution_count": 13,
     "metadata": {},
     "output_type": "execute_result"
    }
   ],
   "source": [
    "str(muz)"
   ]
  },
  {
   "cell_type": "markdown",
   "id": "b257b8df-ca3a-484e-b5be-31cc413bdc6b",
   "metadata": {},
   "source": [
    "## try & except & else &finally"
   ]
  },
  {
   "cell_type": "code",
   "execution_count": 17,
   "id": "35713a55-cffd-4f86-95e5-03a459b8f046",
   "metadata": {},
   "outputs": [
    {
     "name": "stdin",
     "output_type": "stream",
     "text": [
      "numaranızı giriniz:  ghg\n"
     ]
    },
    {
     "name": "stdout",
     "output_type": "stream",
     "text": [
      "lütfen sadece numara giriniz\n",
      "finally çağırıldı\n"
     ]
    },
    {
     "name": "stdin",
     "output_type": "stream",
     "text": [
      "numaranızı giriniz:  5\n"
     ]
    },
    {
     "name": "stdout",
     "output_type": "stream",
     "text": [
      "teşekkürler\n",
      "finally çağırıldı\n"
     ]
    }
   ],
   "source": [
    "while True:\n",
    "    try:    #denenen kod\n",
    "        benimInt=int(input(\"numaranızı giriniz: \"))\n",
    "    except:  #hata sonunda oluşan uyarı\n",
    "        print(\"lütfen sadece numara giriniz\")\n",
    "        continue\n",
    "    else:   #hata oluşmazsa yazılacak \n",
    "        print(\"teşekkürler\")\n",
    "        break\n",
    "    finally:   #her halikarda yazılacak mesela kullanıcı adı\n",
    "        print(\"finally çağırıldı\")"
   ]
  },
  {
   "cell_type": "code",
   "execution_count": 24,
   "id": "d7ced6ce-fa21-41c8-9bc7-cc76248caf20",
   "metadata": {},
   "outputs": [
    {
     "name": "stdout",
     "output_type": "stream",
     "text": [
      "3.10.0\n"
     ]
    }
   ],
   "source": [
    "import matplotlib\n",
    "print(matplotlib.__version__)\n",
    "\n"
   ]
  },
  {
   "cell_type": "code",
   "execution_count": null,
   "id": "a48cc4a4-3bc0-4b23-a809-841e13cb80cd",
   "metadata": {},
   "outputs": [],
   "source": []
  }
 ],
 "metadata": {
  "kernelspec": {
   "display_name": "Python 3 (ipykernel)",
   "language": "python",
   "name": "python3"
  },
  "language_info": {
   "codemirror_mode": {
    "name": "ipython",
    "version": 3
   },
   "file_extension": ".py",
   "mimetype": "text/x-python",
   "name": "python",
   "nbconvert_exporter": "python",
   "pygments_lexer": "ipython3",
   "version": "3.13.5"
  }
 },
 "nbformat": 4,
 "nbformat_minor": 5
}
