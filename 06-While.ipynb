{
 "cells": [
  {
   "cell_type": "code",
   "execution_count": 5,
   "id": "2b4578ef-7c5d-49e3-a606-d20c90d44936",
   "metadata": {},
   "outputs": [],
   "source": [
    "benimListem=[1,2,3,4,5]"
   ]
  },
  {
   "cell_type": "code",
   "execution_count": 6,
   "id": "13f699e5-8c74-4b1c-a986-4326e6147b58",
   "metadata": {},
   "outputs": [
    {
     "name": "stdout",
     "output_type": "stream",
     "text": [
      "3 hala listede\n",
      "3 hala listede\n",
      "3 hala listede\n"
     ]
    }
   ],
   "source": [
    "while 3 in  benimListem:\n",
    "   print(\"3 hala listede\")\n",
    "   benimListem.pop()"
   ]
  },
  {
   "cell_type": "code",
   "execution_count": 9,
   "id": "e4ed0e44-c30d-434d-81c3-b724d5d7ae7f",
   "metadata": {},
   "outputs": [
    {
     "name": "stdout",
     "output_type": "stream",
     "text": [
      "yenidegiskenin güncel degeri:0\n",
      "yenidegiskenin güncel degeri:1\n",
      "yenidegiskenin güncel degeri:2\n",
      "yenidegiskenin güncel degeri:3\n",
      "yenidegiskenin güncel degeri:4\n",
      "yenidegiskenin güncel degeri:5\n",
      "yenidegiskenin güncel degeri:6\n",
      "yenidegiskenin güncel degeri:7\n",
      "yenidegiskenin güncel degeri:8\n",
      "yenidegiskenin güncel degeri:9\n",
      "yenidegiskenin güncel degeri:10\n",
      "yenidegiskenin güncel degeri:11\n",
      "yenidegiskenin güncel degeri:12\n",
      "yenidegiskenin güncel degeri:13\n",
      "yenidegiskenin güncel degeri:14\n"
     ]
    }
   ],
   "source": [
    "yenidegisken=0\n",
    "while yenidegisken<15:\n",
    "    print(\"yenidegiskenin güncel degeri:\"+str(yenidegisken))  #str ile yenidegiskeni string türünde yazdık \n",
    "    yenidegisken=yenidegisken+1"
   ]
  },
  {
   "cell_type": "code",
   "execution_count": 10,
   "id": "16dda539-a85c-443f-b301-23c7a08d20a6",
   "metadata": {},
   "outputs": [
    {
     "name": "stdout",
     "output_type": "stream",
     "text": [
      "yenidegiskenin güncel degeri:0\n",
      "yenidegiskenin güncel degeri:1\n",
      "yenidegiskenin güncel degeri:2\n",
      "yenidegiskenin güncel degeri:3\n",
      "yenidegiskenin güncel degeri:4\n",
      "yenidegiskenin güncel degeri:5\n",
      "yenidegiskenin güncel degeri:6\n",
      "yenidegiskenin güncel degeri:7\n",
      "yenidegiskenin güncel degeri:8\n",
      "yenidegiskenin güncel degeri:9\n",
      "yenidegiskenin güncel degeri:10\n",
      "yenidegiskenin güncel degeri:11\n",
      "yenidegiskenin güncel degeri:12\n",
      "yenidegiskenin güncel degeri:13\n",
      "yenidegiskenin güncel degeri:14\n"
     ]
    }
   ],
   "source": [
    "#daha sık kullanılan yöntem \n",
    "yenidegisken=0\n",
    "while yenidegisken<15:\n",
    "    print( f\"yenidegiskenin güncel degeri:{yenidegisken}\")   \n",
    "    yenidegisken=yenidegisken+1"
   ]
  },
  {
   "cell_type": "code",
   "execution_count": null,
   "id": "873dac24-9ddb-4670-b4c6-07c766777846",
   "metadata": {},
   "outputs": [],
   "source": []
  }
 ],
 "metadata": {
  "kernelspec": {
   "display_name": "Python 3 (ipykernel)",
   "language": "python",
   "name": "python3"
  },
  "language_info": {
   "codemirror_mode": {
    "name": "ipython",
    "version": 3
   },
   "file_extension": ".py",
   "mimetype": "text/x-python",
   "name": "python",
   "nbconvert_exporter": "python",
   "pygments_lexer": "ipython3",
   "version": "3.13.5"
  }
 },
 "nbformat": 4,
 "nbformat_minor": 5
}
