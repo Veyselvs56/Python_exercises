{
 "cells": [
  {
   "cell_type": "code",
   "execution_count": 13,
   "id": "83e3bbec-aefd-417e-8919-9534627277fc",
   "metadata": {},
   "outputs": [],
   "source": [
    "#her iki clasta da bilgi fonk u var ve ben istediğim zaman istediğim clası çağırabilirim\n",
    "class Elma():\n",
    "    def __init__(self,isim): \n",
    "        self.isim=isim\n",
    "    def Bilgi(self):\n",
    "        return self.isim+\"100 kalori\""
   ]
  },
  {
   "cell_type": "code",
   "execution_count": 14,
   "id": "e40dce7e-e70f-4198-ba82-0fc341042176",
   "metadata": {},
   "outputs": [],
   "source": [
    "class Muz(): \n",
    "    def __init__(self,isim): \n",
    "        self.isim=isim\n",
    "    def Bilgi(self):\n",
    "        return self.isim+\"150 kalori\""
   ]
  },
  {
   "cell_type": "code",
   "execution_count": 15,
   "id": "c78509f4-5f76-4439-a494-cb1412d329cc",
   "metadata": {},
   "outputs": [],
   "source": [
    "elma=Elma(\"elma\")"
   ]
  },
  {
   "cell_type": "code",
   "execution_count": 16,
   "id": "fba4cf2a-f721-47f3-aa86-0322f4ab4653",
   "metadata": {},
   "outputs": [
    {
     "data": {
      "text/plain": [
       "'elma100 kalori'"
      ]
     },
     "execution_count": 16,
     "metadata": {},
     "output_type": "execute_result"
    }
   ],
   "source": [
    "elma.Bilgi()"
   ]
  },
  {
   "cell_type": "code",
   "execution_count": 17,
   "id": "9436e865-044e-4c8a-ab59-c32477fe66a4",
   "metadata": {},
   "outputs": [],
   "source": [
    "muz=Muz(\"muz\")"
   ]
  },
  {
   "cell_type": "code",
   "execution_count": 18,
   "id": "6fc47a0b-5046-4a39-b2cc-86443aa4bdf2",
   "metadata": {},
   "outputs": [
    {
     "data": {
      "text/plain": [
       "'muz150 kalori'"
      ]
     },
     "execution_count": 18,
     "metadata": {},
     "output_type": "execute_result"
    }
   ],
   "source": [
    "muz.Bilgi()"
   ]
  },
  {
   "cell_type": "code",
   "execution_count": 19,
   "id": "129577bf-0fa0-4b78-bfd7-353b08b54c0b",
   "metadata": {},
   "outputs": [],
   "source": [
    "meyveListesi=[elma,muz]"
   ]
  },
  {
   "cell_type": "code",
   "execution_count": 20,
   "id": "b927fa8a-3fd0-4fde-a9ac-75c59072528c",
   "metadata": {},
   "outputs": [
    {
     "name": "stdout",
     "output_type": "stream",
     "text": [
      "elma100 kalori\n",
      "muz150 kalori\n"
     ]
    }
   ],
   "source": [
    "for meyve in meyveListesi:\n",
    "    print(meyve.Bilgi())"
   ]
  },
  {
   "cell_type": "code",
   "execution_count": 25,
   "id": "70383b43-27b5-41b4-9c67-9f9ed77c8fbd",
   "metadata": {},
   "outputs": [],
   "source": [
    "#veya bir foonksiyon yazalaım classların dışında bir fonksiyonabs\n",
    "def BilgiVer(meyve):\n",
    "    print(meyve.Bilgi())  "
   ]
  },
  {
   "cell_type": "code",
   "execution_count": 26,
   "id": "03f2e7d4-e38e-4fb0-a6af-cc7f25d2d21e",
   "metadata": {},
   "outputs": [
    {
     "name": "stdout",
     "output_type": "stream",
     "text": [
      "muz150 kalori\n"
     ]
    }
   ],
   "source": [
    "BilgiVer(muz)"
   ]
  },
  {
   "cell_type": "code",
   "execution_count": 27,
   "id": "46a0709c-2c4c-49e6-8057-af8dab860327",
   "metadata": {},
   "outputs": [
    {
     "name": "stdout",
     "output_type": "stream",
     "text": [
      "elma100 kalori\n"
     ]
    }
   ],
   "source": [
    "BilgiVer(elma)"
   ]
  },
  {
   "cell_type": "code",
   "execution_count": null,
   "id": "92903c75-0407-4078-9c01-61d509675167",
   "metadata": {},
   "outputs": [],
   "source": []
  }
 ],
 "metadata": {
  "kernelspec": {
   "display_name": "Python 3 (ipykernel)",
   "language": "python",
   "name": "python3"
  },
  "language_info": {
   "codemirror_mode": {
    "name": "ipython",
    "version": 3
   },
   "file_extension": ".py",
   "mimetype": "text/x-python",
   "name": "python",
   "nbconvert_exporter": "python",
   "pygments_lexer": "ipython3",
   "version": "3.13.5"
  }
 },
 "nbformat": 4,
 "nbformat_minor": 5
}
