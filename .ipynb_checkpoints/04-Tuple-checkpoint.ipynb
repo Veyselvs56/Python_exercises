{
 "cells": [
  {
   "cell_type": "code",
   "execution_count": 13,
   "id": "e123f129-e130-4817-ab08-8065709620a5",
   "metadata": {},
   "outputs": [],
   "source": [
    "Tuple=(1,2,\"a\",\"b\",4.5,2)"
   ]
  },
  {
   "cell_type": "code",
   "execution_count": 8,
   "id": "65864cad-17ad-48f2-aeb3-109cc07b5cf1",
   "metadata": {},
   "outputs": [
    {
     "data": {
      "text/plain": [
       "(1, 2, 'a', 'b', 4.5)"
      ]
     },
     "execution_count": 8,
     "metadata": {},
     "output_type": "execute_result"
    }
   ],
   "source": [
    "Tuple"
   ]
  },
  {
   "cell_type": "code",
   "execution_count": 9,
   "id": "f11a4362-13d4-43d9-aa3d-fd4689fe491b",
   "metadata": {},
   "outputs": [
    {
     "data": {
      "text/plain": [
       "1"
      ]
     },
     "execution_count": 9,
     "metadata": {},
     "output_type": "execute_result"
    }
   ],
   "source": [
    "Tuple[0]"
   ]
  },
  {
   "cell_type": "code",
   "execution_count": 11,
   "id": "983e98d6-ebb2-4608-972f-dd25ba5d85ef",
   "metadata": {},
   "outputs": [],
   "source": [
    "#Tuple[2]=\"b\"  mesela bu kodda hata olur çünkü tuple değiştirilemez "
   ]
  },
  {
   "cell_type": "code",
   "execution_count": 14,
   "id": "d83f4b00-c231-465c-8942-e465a98ca9f0",
   "metadata": {},
   "outputs": [
    {
     "data": {
      "text/plain": [
       "2"
      ]
     },
     "execution_count": 14,
     "metadata": {},
     "output_type": "execute_result"
    }
   ],
   "source": [
    "Tuple.count(2)"
   ]
  },
  {
   "cell_type": "code",
   "execution_count": 15,
   "id": "a86a6806-79eb-4f7b-957b-581d7a3aade8",
   "metadata": {},
   "outputs": [
    {
     "data": {
      "text/plain": [
       "2"
      ]
     },
     "execution_count": 15,
     "metadata": {},
     "output_type": "execute_result"
    }
   ],
   "source": [
    "Tuple.index(\"a\")"
   ]
  },
  {
   "cell_type": "code",
   "execution_count": null,
   "id": "aab1e3cd-38b9-4951-b575-e38100a8352f",
   "metadata": {},
   "outputs": [],
   "source": []
  }
 ],
 "metadata": {
  "kernelspec": {
   "display_name": "Python [conda env:base] *",
   "language": "python",
   "name": "conda-base-py"
  },
  "language_info": {
   "codemirror_mode": {
    "name": "ipython",
    "version": 3
   },
   "file_extension": ".py",
   "mimetype": "text/x-python",
   "name": "python",
   "nbconvert_exporter": "python",
   "pygments_lexer": "ipython3",
   "version": "3.12.7"
  }
 },
 "nbformat": 4,
 "nbformat_minor": 5
}
