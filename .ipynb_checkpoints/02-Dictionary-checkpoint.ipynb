{
 "cells": [
  {
   "cell_type": "code",
   "execution_count": 1,
   "id": "8ff1dfa4-a107-4bdf-8fe7-69123282c3b1",
   "metadata": {},
   "outputs": [],
   "source": [
    "##Dictionary "
   ]
  },
  {
   "cell_type": "code",
   "execution_count": 4,
   "id": "1f5e7798-1543-4e9f-bdce-fec2d42b515f",
   "metadata": {},
   "outputs": [],
   "source": [
    "sözlük={\"elma\":\"apple\",\"orange\":1,\"veysel\":\"tardu\"}"
   ]
  },
  {
   "cell_type": "code",
   "execution_count": 6,
   "id": "f51a0de4-ab04-46f3-a055-cb73f6375056",
   "metadata": {},
   "outputs": [
    {
     "data": {
      "text/plain": [
       "'apple'"
      ]
     },
     "execution_count": 6,
     "metadata": {},
     "output_type": "execute_result"
    }
   ],
   "source": [
    "sözlük[\"elma\"]"
   ]
  },
  {
   "cell_type": "code",
   "execution_count": 8,
   "id": "fe80e4f6-77b3-4fae-a39c-1c59644563ba",
   "metadata": {},
   "outputs": [
    {
     "data": {
      "text/plain": [
       "1"
      ]
     },
     "execution_count": 8,
     "metadata": {},
     "output_type": "execute_result"
    }
   ],
   "source": [
    "sözlük[\"orange\"]"
   ]
  },
  {
   "cell_type": "code",
   "execution_count": 10,
   "id": "b0cfc5b9-4604-40ec-8c7b-4b76c84cfa5b",
   "metadata": {},
   "outputs": [
    {
     "data": {
      "text/plain": [
       "dict"
      ]
     },
     "execution_count": 10,
     "metadata": {},
     "output_type": "execute_result"
    }
   ],
   "source": [
    "type(sözlük)"
   ]
  },
  {
   "cell_type": "code",
   "execution_count": 11,
   "id": "a8464aff-683f-44ac-9b7a-9eab1425d8d6",
   "metadata": {},
   "outputs": [],
   "source": [
    "## birbirinden farklı veri türlerini dict veri türü ile bağlayabiliyoruz "
   ]
  },
  {
   "cell_type": "code",
   "execution_count": 12,
   "id": "76a8bf89-320b-4fdf-8cc4-685b8aa51ec9",
   "metadata": {},
   "outputs": [],
   "source": [
    "sözlük2={\"kelime1\":100,\"kelime2\":[10,20,4.5,\"veysel\"],\"kelime3\":{\"anahtar4\":\"cevap\"}}"
   ]
  },
  {
   "cell_type": "code",
   "execution_count": 18,
   "id": "853c95b5-b036-4135-b53d-1f7dc5417485",
   "metadata": {},
   "outputs": [
    {
     "data": {
      "text/plain": [
       "'veysel'"
      ]
     },
     "execution_count": 18,
     "metadata": {},
     "output_type": "execute_result"
    }
   ],
   "source": [
    "sözlük2[\"kelime2\"][-1]"
   ]
  },
  {
   "cell_type": "code",
   "execution_count": 19,
   "id": "69e3f1f4-165f-4392-a47d-f16a304fd369",
   "metadata": {},
   "outputs": [
    {
     "data": {
      "text/plain": [
       "'cevap'"
      ]
     },
     "execution_count": 19,
     "metadata": {},
     "output_type": "execute_result"
    }
   ],
   "source": [
    "sözlük2[\"kelime3\"][\"anahtar4\"]"
   ]
  },
  {
   "cell_type": "code",
   "execution_count": 14,
   "id": "8f00cf68-7487-4a44-8006-5f1d2ebe63a0",
   "metadata": {},
   "outputs": [
    {
     "data": {
      "text/plain": [
       "dict_keys(['kelime1', 'kelime2', 'kelime3'])"
      ]
     },
     "execution_count": 14,
     "metadata": {},
     "output_type": "execute_result"
    }
   ],
   "source": [
    "sözlük2.keys()"
   ]
  },
  {
   "cell_type": "code",
   "execution_count": 16,
   "id": "6160a051-9cfc-4a20-bc51-520487460f95",
   "metadata": {},
   "outputs": [
    {
     "data": {
      "text/plain": [
       "dict_values([100, [10, 20, 4.5, 'veysel'], {'anahtar4': 'cevap'}])"
      ]
     },
     "execution_count": 16,
     "metadata": {},
     "output_type": "execute_result"
    }
   ],
   "source": [
    "sözlük2.values()"
   ]
  },
  {
   "cell_type": "code",
   "execution_count": null,
   "id": "6f177024-f50d-4848-9e53-75d72f0fd11c",
   "metadata": {},
   "outputs": [],
   "source": []
  }
 ],
 "metadata": {
  "kernelspec": {
   "display_name": "Python [conda env:base] *",
   "language": "python",
   "name": "conda-base-py"
  },
  "language_info": {
   "codemirror_mode": {
    "name": "ipython",
    "version": 3
   },
   "file_extension": ".py",
   "mimetype": "text/x-python",
   "name": "python",
   "nbconvert_exporter": "python",
   "pygments_lexer": "ipython3",
   "version": "3.12.7"
  }
 },
 "nbformat": 4,
 "nbformat_minor": 5
}
