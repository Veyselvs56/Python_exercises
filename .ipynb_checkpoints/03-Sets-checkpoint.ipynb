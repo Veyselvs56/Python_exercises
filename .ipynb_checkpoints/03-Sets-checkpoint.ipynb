{
 "cells": [
  {
   "cell_type": "code",
   "execution_count": 2,
   "id": "58536544-7131-4a29-bb23-bb8c88df0d20",
   "metadata": {},
   "outputs": [],
   "source": [
    "listem=[1,7,8,1,7,8] ##aynı elemanları içerisinde 1 defa barındırmaya yarar"
   ]
  },
  {
   "cell_type": "code",
   "execution_count": 3,
   "id": "9cb4898e-3f3b-4fe5-bcc4-717162a76ea4",
   "metadata": {},
   "outputs": [
    {
     "data": {
      "text/plain": [
       "[1, 7, 8, 1, 7, 8]"
      ]
     },
     "execution_count": 3,
     "metadata": {},
     "output_type": "execute_result"
    }
   ],
   "source": [
    "listem"
   ]
  },
  {
   "cell_type": "code",
   "execution_count": 4,
   "id": "b1869609-a687-4502-b42f-321cd99e9021",
   "metadata": {},
   "outputs": [],
   "source": [
    "setim=set(listem) ## listeyi sete çevirdik "
   ]
  },
  {
   "cell_type": "code",
   "execution_count": 5,
   "id": "3edc52af-7f0a-4c79-bd52-9fdd5072cf8a",
   "metadata": {},
   "outputs": [
    {
     "data": {
      "text/plain": [
       "set"
      ]
     },
     "execution_count": 5,
     "metadata": {},
     "output_type": "execute_result"
    }
   ],
   "source": [
    "type(setim)"
   ]
  },
  {
   "cell_type": "code",
   "execution_count": 6,
   "id": "439f301a-6750-4725-bd63-7876533a3d91",
   "metadata": {},
   "outputs": [
    {
     "data": {
      "text/plain": [
       "{1, 7, 8}"
      ]
     },
     "execution_count": 6,
     "metadata": {},
     "output_type": "execute_result"
    }
   ],
   "source": [
    "setim ## listeyi çevirdiğimiz için artık aynı olan indisleri yazmıyacak set'in en büyük özelliği budur"
   ]
  },
  {
   "cell_type": "code",
   "execution_count": 7,
   "id": "6b2d428b-eb78-4c59-bbf8-d9aae817d2d6",
   "metadata": {},
   "outputs": [],
   "source": [
    "yeniset={\"a\",\"b\",\"c\"}  ## burdaki a tekrar yazdırılmaz ayrıca sözlükle ayn şekilde tanımlandığı için boş tanımlanınca karışabilir"
   ]
  },
  {
   "cell_type": "code",
   "execution_count": 8,
   "id": "3ad402b3-1218-4e9b-ae91-1191cf29c142",
   "metadata": {},
   "outputs": [
    {
     "data": {
      "text/plain": [
       "set"
      ]
     },
     "execution_count": 8,
     "metadata": {},
     "output_type": "execute_result"
    }
   ],
   "source": [
    "type(yeniset)"
   ]
  },
  {
   "cell_type": "code",
   "execution_count": 9,
   "id": "28a75837-48eb-486c-9943-396bfb7b8b40",
   "metadata": {},
   "outputs": [
    {
     "data": {
      "text/plain": [
       "{'a', 'b', 'c'}"
      ]
     },
     "execution_count": 9,
     "metadata": {},
     "output_type": "execute_result"
    }
   ],
   "source": [
    "yeniset"
   ]
  },
  {
   "cell_type": "code",
   "execution_count": 10,
   "id": "3213962a-5668-47c0-b0fb-0ecc8ffb0414",
   "metadata": {},
   "outputs": [],
   "source": [
    "bosSet={}"
   ]
  },
  {
   "cell_type": "code",
   "execution_count": 11,
   "id": "1c70b38a-0ee2-4cc5-b4be-ae8c77a6fbd2",
   "metadata": {},
   "outputs": [
    {
     "data": {
      "text/plain": [
       "dict"
      ]
     },
     "execution_count": 11,
     "metadata": {},
     "output_type": "execute_result"
    }
   ],
   "source": [
    "type(bosSet) ## sözlük olarak anlayacak karışmaması için tanımlarken set olarak tanımlamalıyız "
   ]
  },
  {
   "cell_type": "code",
   "execution_count": 12,
   "id": "a9f051f8-9807-4813-a8ab-f914038acaf7",
   "metadata": {},
   "outputs": [],
   "source": [
    "bosSet2=set() ## artık bu set olarak tanımlanacaktır"
   ]
  },
  {
   "cell_type": "code",
   "execution_count": null,
   "id": "ed9b24d4-fff3-4108-8ed3-78da1c4c482a",
   "metadata": {},
   "outputs": [],
   "source": []
  }
 ],
 "metadata": {
  "kernelspec": {
   "display_name": "Python [conda env:base] *",
   "language": "python",
   "name": "conda-base-py"
  },
  "language_info": {
   "codemirror_mode": {
    "name": "ipython",
    "version": 3
   },
   "file_extension": ".py",
   "mimetype": "text/x-python",
   "name": "python",
   "nbconvert_exporter": "python",
   "pygments_lexer": "ipython3",
   "version": "3.12.7"
  }
 },
 "nbformat": 4,
 "nbformat_minor": 5
}
