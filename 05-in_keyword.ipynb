{
 "cells": [
  {
   "cell_type": "code",
   "execution_count": 1,
   "id": "235922f5-bd06-4af6-bb46-8562ebe20702",
   "metadata": {},
   "outputs": [],
   "source": [
    "isim=\"veysel tardu\""
   ]
  },
  {
   "cell_type": "code",
   "execution_count": 2,
   "id": "283f04d6-0c5d-4741-b807-ba56dd204bea",
   "metadata": {},
   "outputs": [
    {
     "data": {
      "text/plain": [
       "'veysel tardu'"
      ]
     },
     "execution_count": 2,
     "metadata": {},
     "output_type": "execute_result"
    }
   ],
   "source": [
    "isim"
   ]
  },
  {
   "cell_type": "code",
   "execution_count": 5,
   "id": "c9b6f04a-bcbb-4e91-8f79-86e888cd8377",
   "metadata": {},
   "outputs": [
    {
     "name": "stdout",
     "output_type": "stream",
     "text": [
      "varmış\n"
     ]
    }
   ],
   "source": [
    "if \"rdu\" in isim:\n",
    "    print(\"varmış\")\n",
    "else: \n",
    "    print(\"yokmuş\")"
   ]
  },
  {
   "cell_type": "code",
   "execution_count": 6,
   "id": "454a7477-d8bf-4916-9087-4f1bf96906e0",
   "metadata": {},
   "outputs": [],
   "source": [
    "liste =[1,2,6,4]"
   ]
  },
  {
   "cell_type": "code",
   "execution_count": 7,
   "id": "132514c9-b6ca-4301-821e-6711a2647e26",
   "metadata": {},
   "outputs": [
    {
     "name": "stdout",
     "output_type": "stream",
     "text": [
      "6 listede var\n"
     ]
    }
   ],
   "source": [
    "if 6 in liste:  \n",
    "    print(\"6 listede var\")"
   ]
  },
  {
   "cell_type": "code",
   "execution_count": 8,
   "id": "b69641c5-71b9-4e17-bc40-1dc337a05dad",
   "metadata": {},
   "outputs": [],
   "source": [
    "sözlük={\"muz\":100,\"elma\":50,\"armut\":80}"
   ]
  },
  {
   "cell_type": "code",
   "execution_count": 9,
   "id": "46f6362a-0ab8-40aa-9788-15efdb7ff5c6",
   "metadata": {},
   "outputs": [
    {
     "name": "stdout",
     "output_type": "stream",
     "text": [
      "muz sözlükte var\n"
     ]
    }
   ],
   "source": [
    "if \"muz\" in sözlük.keys():\n",
    "    print(\"muz sözlükte var\")"
   ]
  },
  {
   "cell_type": "code",
   "execution_count": 10,
   "id": "06aaebc5-5cd1-4c78-a2be-0a7469ca519e",
   "metadata": {},
   "outputs": [
    {
     "name": "stdout",
     "output_type": "stream",
     "text": [
      "sözlükte var\n"
     ]
    }
   ],
   "source": [
    "if 50 in sözlük.values():\n",
    "    print(\"sözlükte var\")"
   ]
  },
  {
   "cell_type": "code",
   "execution_count": null,
   "id": "1cc331c8-f0f1-48d5-8483-6f14be2d7adf",
   "metadata": {},
   "outputs": [],
   "source": []
  }
 ],
 "metadata": {
  "kernelspec": {
   "display_name": "Python [conda env:base] *",
   "language": "python",
   "name": "conda-base-py"
  },
  "language_info": {
   "codemirror_mode": {
    "name": "ipython",
    "version": 3
   },
   "file_extension": ".py",
   "mimetype": "text/x-python",
   "name": "python",
   "nbconvert_exporter": "python",
   "pygments_lexer": "ipython3",
   "version": "3.12.7"
  }
 },
 "nbformat": 4,
 "nbformat_minor": 5
}
