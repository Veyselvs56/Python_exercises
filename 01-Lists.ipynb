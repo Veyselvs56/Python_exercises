{
 "cells": [
  {
   "cell_type": "code",
   "execution_count": 2,
   "id": "1b10aeb9-b801-46d6-b719-4d7dd66f42c9",
   "metadata": {},
   "outputs": [],
   "source": [
    "karisikListe=[1,2.3,\"veysel\",'c']"
   ]
  },
  {
   "cell_type": "code",
   "execution_count": 3,
   "id": "830b4952-5d3b-4baa-b4d5-312dc667c35a",
   "metadata": {},
   "outputs": [
    {
     "data": {
      "text/plain": [
       "list"
      ]
     },
     "execution_count": 3,
     "metadata": {},
     "output_type": "execute_result"
    }
   ],
   "source": [
    "type(karisikListe)"
   ]
  },
  {
   "cell_type": "code",
   "execution_count": 4,
   "id": "28be5400-f1d9-4f80-b823-790f9fc77885",
   "metadata": {},
   "outputs": [],
   "source": [
    "sonuc =karisikListe[2]"
   ]
  },
  {
   "cell_type": "code",
   "execution_count": 5,
   "id": "37075b48-34f7-47a3-8e0d-cbff35721efb",
   "metadata": {},
   "outputs": [
    {
     "data": {
      "text/plain": [
       "str"
      ]
     },
     "execution_count": 5,
     "metadata": {},
     "output_type": "execute_result"
    }
   ],
   "source": [
    "type(sonuc)"
   ]
  },
  {
   "cell_type": "code",
   "execution_count": 6,
   "id": "039b3bdb-ab85-4612-896e-ad3560a194f0",
   "metadata": {},
   "outputs": [],
   "source": [
    "nestedList=[5,2.4,[1,2.3,\"veysel\",'c'],\"veysel\"]"
   ]
  },
  {
   "cell_type": "code",
   "execution_count": 7,
   "id": "b16c72aa-aaad-4e84-a34f-6f31c079927c",
   "metadata": {},
   "outputs": [
    {
     "data": {
      "text/plain": [
       "list"
      ]
     },
     "execution_count": 7,
     "metadata": {},
     "output_type": "execute_result"
    }
   ],
   "source": [
    "type(nestedList[2])   ##listenin içine de liste koyabiliyoruz"
   ]
  },
  {
   "cell_type": "code",
   "execution_count": 8,
   "id": "cf5a498a-bbd9-4724-a654-265017558130",
   "metadata": {},
   "outputs": [
    {
     "name": "stdout",
     "output_type": "stream",
     "text": [
      "c\n"
     ]
    }
   ],
   "source": [
    "print(nestedList[2][3])"
   ]
  },
  {
   "cell_type": "code",
   "execution_count": 15,
   "id": "b05b0171-d164-4b63-8f46-23dd0146982c",
   "metadata": {},
   "outputs": [
    {
     "data": {
      "text/plain": [
       "[5, 2.4, [1, 2.3, 'veysel', 'c']]"
      ]
     },
     "execution_count": 15,
     "metadata": {},
     "output_type": "execute_result"
    }
   ],
   "source": [
    "nestedList[:2]   ##ilk iki indisi getirir "
   ]
  },
  {
   "cell_type": "code",
   "execution_count": 13,
   "id": "349c54fb-947b-47f5-ba29-632166a0f5e0",
   "metadata": {},
   "outputs": [
    {
     "data": {
      "text/plain": [
       "[[1, 2.3, 'veysel', 'c'], 'veysel']"
      ]
     },
     "execution_count": 13,
     "metadata": {},
     "output_type": "execute_result"
    }
   ],
   "source": [
    "nestedList[2:]  ##ilk iki indis dışındakileri getirir"
   ]
  },
  {
   "cell_type": "code",
   "execution_count": null,
   "id": "718992ae-c1e7-4eef-98b6-cd7e23f36dda",
   "metadata": {},
   "outputs": [],
   "source": []
  }
 ],
 "metadata": {
  "kernelspec": {
   "display_name": "Python [conda env:base] *",
   "language": "python",
   "name": "conda-base-py"
  },
  "language_info": {
   "codemirror_mode": {
    "name": "ipython",
    "version": 3
   },
   "file_extension": ".py",
   "mimetype": "text/x-python",
   "name": "python",
   "nbconvert_exporter": "python",
   "pygments_lexer": "ipython3",
   "version": "3.12.7"
  }
 },
 "nbformat": 4,
 "nbformat_minor": 5
}
