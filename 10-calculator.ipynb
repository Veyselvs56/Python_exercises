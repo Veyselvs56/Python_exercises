{
 "cells": [
  {
   "cell_type": "code",
   "execution_count": null,
   "id": "497abd2d-018c-46fe-a3e0-2afddbe4033c",
   "metadata": {},
   "outputs": [
    {
     "name": "stdin",
     "output_type": "stream",
     "text": [
      "ilk sayıyı giriniz: 5\n",
      "ikinci sayyiyi giriniz: 7\n",
      "işlem seçiniz: +-*/ *\n"
     ]
    },
    {
     "name": "stdout",
     "output_type": "stream",
     "text": [
      "5 * 7 = 35\n"
     ]
    },
    {
     "name": "stdin",
     "output_type": "stream",
     "text": [
      "ilk sayıyı giriniz: 4\n",
      "ikinci sayyiyi giriniz: veysel\n"
     ]
    },
    {
     "name": "stdout",
     "output_type": "stream",
     "text": [
      "Lütfen sayıyı düzgün giriniz\n"
     ]
    },
    {
     "name": "stdin",
     "output_type": "stream",
     "text": [
      "ilk sayıyı giriniz: 4\n",
      "ikinci sayyiyi giriniz: 7\n",
      "işlem seçiniz: +-*/ -\n"
     ]
    },
    {
     "name": "stdout",
     "output_type": "stream",
     "text": [
      "4 - 7 = -3\n",
      "Lütfen sayıyı düzgün giriniz\n"
     ]
    }
   ],
   "source": [
    "def cal(num1,num2,islem):\n",
    "    if islem not in \"+-*/\":\n",
    "        return \"lütfen işlemlerden birini seçin : +-*/\"\n",
    "    \n",
    "    if islem ==\"+\":\n",
    "        return (str(num1)+\" + \"+str(num2)+\" = \"+str(num1+num2)) #ekrana yazarken ise string değere çevirdim\n",
    "    if islem ==\"-\":\n",
    "        return (str(num1)+\" - \"+str(num2)+\" = \"+str(num1-num2))\n",
    "    if islem ==\"*\":\n",
    "        return (str(num1)+\" * \"+str(num2)+\" = \"+str(num1*num2))\n",
    "    if islem ==\"/\":\n",
    "        return f\"{num1} / {num2} = {num1 / num2}\"    # bu şekilde de yazabiliriz \n",
    "\n",
    "\n",
    "while True:\n",
    "    try:\n",
    "        num1=int(input(\"ilk sayıyı giriniz:\"))   #sayıları aldıktan sonra int e çevirdik\n",
    "        num2=int(input(\"ikinci sayyiyi giriniz:\"))\n",
    "        islem=input(\"işlem seçiniz: +-*/\")\n",
    "        print(cal(num1,num2,islem))\n",
    "    except:\n",
    "        print(\"Lütfen sayıyı düzgün giriniz\")"
   ]
  },
  {
   "cell_type": "code",
   "execution_count": null,
   "id": "7261419b-2e2a-458e-a406-fc1a71220f8c",
   "metadata": {},
   "outputs": [],
   "source": []
  }
 ],
 "metadata": {
  "kernelspec": {
   "display_name": "Python 3 (ipykernel)",
   "language": "python",
   "name": "python3"
  },
  "language_info": {
   "codemirror_mode": {
    "name": "ipython",
    "version": 3
   },
   "file_extension": ".py",
   "mimetype": "text/x-python",
   "name": "python",
   "nbconvert_exporter": "python",
   "pygments_lexer": "ipython3",
   "version": "3.13.5"
  }
 },
 "nbformat": 4,
 "nbformat_minor": 5
}
