{
 "cells": [
  {
   "cell_type": "markdown",
   "id": "a9efa2b6-f919-48ab-8489-ece0e79988b3",
   "metadata": {},
   "source": [
    "## instance & attribute"
   ]
  },
  {
   "cell_type": "code",
   "execution_count": 14,
   "id": "912114ed-6854-4721-91e1-0755103eed44",
   "metadata": {},
   "outputs": [],
   "source": [
    "class SuperKahraman():  #clasları buyuk harfle başlatırız genelde\n",
    "    ozelGuc=\"görünmezlik\"   #bu durumda bu ifade tüm süper kahramanlarda olacak ancak diğer ifadeler \n",
    "    #keyfi bir şekilde eklenebilir boş bırakılabilir ve farklı ifadeler olur ve bu ifade değiştirilebilir \n",
    "    #ancak tekrar bir nesne oluşturulursa tekrardan gorunmezlik olacaktır\n",
    "    def __init__(self,isimInput,yasInput,meslek):   #clastan obje oluşunca init çalışır ayrıca sınıf içinceki fonk larda self kullanılır \n",
    "        #self kendi demek yani sınıfın kendisine referans veriyor \n",
    "        print(\"init çağırıldı\")\n",
    "        self.isim=isimInput\n",
    "        self.yas=yasInput\n",
    "        self.meslek=meslek   #normalde böyle yazılır farkını görmek için genel yazımı yazdım\n",
    "    def ornekMethod(self):\n",
    "        print(f\"benim mesleğim: {self.meslek}\") #meslek özelliğine self diyerek erişebiliriz\n",
    "        "
   ]
  },
  {
   "cell_type": "code",
   "execution_count": 15,
   "id": "3756b39d-3d2c-4d37-8525-325c2243e148",
   "metadata": {},
   "outputs": [
    {
     "name": "stdout",
     "output_type": "stream",
     "text": [
      "init çağırıldı\n"
     ]
    }
   ],
   "source": [
    "supermen=SuperKahraman(\"supermen\",30,\"gazeteci\")"
   ]
  },
  {
   "cell_type": "code",
   "execution_count": 11,
   "id": "4cdb3a09-e73e-4d07-abdd-050024245f0e",
   "metadata": {},
   "outputs": [],
   "source": [
    "#veya \n",
    "supermen.isim=\"veysel\""
   ]
  },
  {
   "cell_type": "code",
   "execution_count": 12,
   "id": "05a220a3-a00a-4595-b763-1604089a0d1a",
   "metadata": {},
   "outputs": [
    {
     "data": {
      "text/plain": [
       "'veysel'"
      ]
     },
     "execution_count": 12,
     "metadata": {},
     "output_type": "execute_result"
    }
   ],
   "source": [
    "supermen.isim"
   ]
  },
  {
   "cell_type": "code",
   "execution_count": 13,
   "id": "13d698c8-4b34-4cd8-a066-3ee2c3baac95",
   "metadata": {},
   "outputs": [
    {
     "data": {
      "text/plain": [
       "'gazeteci'"
      ]
     },
     "execution_count": 13,
     "metadata": {},
     "output_type": "execute_result"
    }
   ],
   "source": [
    "supermen.meslek"
   ]
  },
  {
   "cell_type": "code",
   "execution_count": 16,
   "id": "6feb423b-8ae6-425a-b561-38e49daf1627",
   "metadata": {},
   "outputs": [
    {
     "name": "stdout",
     "output_type": "stream",
     "text": [
      "benim mesleğim: gazeteci\n"
     ]
    }
   ],
   "source": [
    "supermen.ornekMethod()"
   ]
  },
  {
   "cell_type": "code",
   "execution_count": 31,
   "id": "62eb4d76-eb1b-44f3-b2d7-d994fa307382",
   "metadata": {},
   "outputs": [],
   "source": [
    " class Kopek():\n",
    "    yaskatsayisi=7\n",
    "    def __init__(self,yas=5):\n",
    "        self.yas=yas\n",
    "\n",
    "    def insanYasiHesapla(self):\n",
    "        return self.yas*self.yaskatsayisi   #self yerine kopek yazabiliriz yani direk sınıfı\n",
    "        "
   ]
  },
  {
   "cell_type": "code",
   "execution_count": 32,
   "id": "0b399797-6bfe-4cb9-b275-ddecf3487fbf",
   "metadata": {},
   "outputs": [],
   "source": [
    "benimKopek=Kopek()   #sınıf tanımlarken default değişken atamazsak yaş argumanı vermezsek hata verir"
   ]
  },
  {
   "cell_type": "code",
   "execution_count": 33,
   "id": "7ee3cdf9-05d3-41e8-b47a-1221fc3710c1",
   "metadata": {},
   "outputs": [
    {
     "data": {
      "text/plain": [
       "5"
      ]
     },
     "execution_count": 33,
     "metadata": {},
     "output_type": "execute_result"
    }
   ],
   "source": [
    "benimKopek.yas"
   ]
  },
  {
   "cell_type": "code",
   "execution_count": 34,
   "id": "d9bf9897-d2ca-445a-bcf8-bd1eb4761157",
   "metadata": {},
   "outputs": [
    {
     "data": {
      "text/plain": [
       "35"
      ]
     },
     "execution_count": 34,
     "metadata": {},
     "output_type": "execute_result"
    }
   ],
   "source": [
    "benimKopek.insanYasiHesapla()"
   ]
  },
  {
   "cell_type": "code",
   "execution_count": null,
   "id": "60f57d81-dedc-42e0-b35c-e3a66424ee3c",
   "metadata": {},
   "outputs": [],
   "source": []
  }
 ],
 "metadata": {
  "kernelspec": {
   "display_name": "Python 3 (ipykernel)",
   "language": "python",
   "name": "python3"
  },
  "language_info": {
   "codemirror_mode": {
    "name": "ipython",
    "version": 3
   },
   "file_extension": ".py",
   "mimetype": "text/x-python",
   "name": "python",
   "nbconvert_exporter": "python",
   "pygments_lexer": "ipython3",
   "version": "3.13.5"
  }
 },
 "nbformat": 4,
 "nbformat_minor": 5
}
